{
  "nbformat": 4,
  "nbformat_minor": 0,
  "metadata": {
    "colab": {
      "name": "EDA.ipynb",
      "provenance": [],
      "collapsed_sections": []
    },
    "kernelspec": {
      "name": "python3",
      "display_name": "Python 3"
    },
    "language_info": {
      "name": "python"
    }
  },
  "cells": [
    {
      "cell_type": "markdown",
      "metadata": {
        "id": "h9bDWgK3mYfS"
      },
      "source": [
        "<h1>Data Science Nanodegree by Udacity </h1>\n",
        "\n",
        "<h2>First Project </h2>\n",
        "\n",
        "<h2>In this project I will use student score performance dataset. The dataset has been downloaded from Kaggle, and you can find it in this link <a href = 'https://www.kaggle.com/adithyabshetty100/student-performance'>dataset</a> </h2>\n",
        "\n",
        "\n",
        "#### I want to analyze in this project the factors that contribute in positive manner in student performance, whether it can be measured or not \n",
        "\n",
        "\n",
        "\n",
        "<h3>Table of Content </h3>\n",
        "<ol>\n",
        "<strong> \n",
        "<li>\n",
        "Business Understanding\n",
        "\n",
        "</li>\n",
        "\n",
        "\n",
        "<li>\n",
        "Data Understanding\n",
        "\n",
        "</li>\n",
        "<li>\n",
        "Data Preparation\n",
        "\n",
        "</li>\n",
        "<li>\n",
        "Data Modeling\n",
        "\n",
        "</li>\n",
        "<li>\n",
        "Data Visualization\n",
        "\n",
        "\n",
        "</li>\n",
        "<li>\n",
        "Result Evaluation & Conclusion\n",
        "</li>\n",
        "\n",
        "</strong> \n",
        "</ol>"
      ]
    },
    {
      "cell_type": "markdown",
      "metadata": {
        "id": "Ko0T8pIpuiyr"
      },
      "source": [
        "#Business Understanding \n",
        "\n",
        "\n",
        "\n",
        "\n",
        "\n",
        "\n",
        "1.   Does parent educational background urge their childern to complete test prepartion course\n",
        "2.   Who has better score performance based on gender\n",
        "3.   Whether test preparation course increase the student score\n",
        "4.   Is race and ethnicity play important role in student's performance\n",
        "5.   Is parent educational background effect student's performance\n",
        "\n"
      ]
    },
    {
      "cell_type": "code",
      "metadata": {
        "id": "iUok2l9Akl4T"
      },
      "source": [
        "#import necessary libraires\n",
        "import pandas as pd\n",
        "import matplotlib.pyplot as plt\n",
        "import numpy as np\n",
        "import seaborn as sb\n",
        "from sklearn.linear_model import LinearRegression\n",
        "from sklearn.model_selection import train_test_split\n",
        "from sklearn.metrics import r2_score"
      ],
      "execution_count": null,
      "outputs": []
    },
    {
      "cell_type": "markdown",
      "metadata": {
        "id": "3XuAawEtNGOn"
      },
      "source": [
        "# Data Understadning\n",
        "\n",
        "##### Explore the columns, and some statistics"
      ]
    },
    {
      "cell_type": "code",
      "metadata": {
        "colab": {
          "base_uri": "https://localhost:8080/",
          "height": 221
        },
        "id": "x85muxv9kxq8",
        "outputId": "103bc22b-ad36-4ba8-d56f-bc8299d51ce7"
      },
      "source": [
        "df = pd.read_csv('/content/StudentsPerformance.csv')\n",
        "\n",
        "df.head()"
      ],
      "execution_count": null,
      "outputs": [
        {
          "output_type": "execute_result",
          "data": {
            "text/html": [
              "<div>\n",
              "<style scoped>\n",
              "    .dataframe tbody tr th:only-of-type {\n",
              "        vertical-align: middle;\n",
              "    }\n",
              "\n",
              "    .dataframe tbody tr th {\n",
              "        vertical-align: top;\n",
              "    }\n",
              "\n",
              "    .dataframe thead th {\n",
              "        text-align: right;\n",
              "    }\n",
              "</style>\n",
              "<table border=\"1\" class=\"dataframe\">\n",
              "  <thead>\n",
              "    <tr style=\"text-align: right;\">\n",
              "      <th></th>\n",
              "      <th>gender</th>\n",
              "      <th>race/ethnicity</th>\n",
              "      <th>parental level of education</th>\n",
              "      <th>lunch</th>\n",
              "      <th>test preparation course</th>\n",
              "      <th>math score</th>\n",
              "      <th>reading score</th>\n",
              "      <th>writing score</th>\n",
              "    </tr>\n",
              "  </thead>\n",
              "  <tbody>\n",
              "    <tr>\n",
              "      <th>0</th>\n",
              "      <td>female</td>\n",
              "      <td>group B</td>\n",
              "      <td>bachelor's degree</td>\n",
              "      <td>standard</td>\n",
              "      <td>none</td>\n",
              "      <td>72</td>\n",
              "      <td>72</td>\n",
              "      <td>74</td>\n",
              "    </tr>\n",
              "    <tr>\n",
              "      <th>1</th>\n",
              "      <td>female</td>\n",
              "      <td>group C</td>\n",
              "      <td>some college</td>\n",
              "      <td>standard</td>\n",
              "      <td>completed</td>\n",
              "      <td>69</td>\n",
              "      <td>90</td>\n",
              "      <td>88</td>\n",
              "    </tr>\n",
              "    <tr>\n",
              "      <th>2</th>\n",
              "      <td>female</td>\n",
              "      <td>group B</td>\n",
              "      <td>master's degree</td>\n",
              "      <td>standard</td>\n",
              "      <td>none</td>\n",
              "      <td>90</td>\n",
              "      <td>95</td>\n",
              "      <td>93</td>\n",
              "    </tr>\n",
              "    <tr>\n",
              "      <th>3</th>\n",
              "      <td>male</td>\n",
              "      <td>group A</td>\n",
              "      <td>associate's degree</td>\n",
              "      <td>free/reduced</td>\n",
              "      <td>none</td>\n",
              "      <td>47</td>\n",
              "      <td>57</td>\n",
              "      <td>44</td>\n",
              "    </tr>\n",
              "    <tr>\n",
              "      <th>4</th>\n",
              "      <td>male</td>\n",
              "      <td>group C</td>\n",
              "      <td>some college</td>\n",
              "      <td>standard</td>\n",
              "      <td>none</td>\n",
              "      <td>76</td>\n",
              "      <td>78</td>\n",
              "      <td>75</td>\n",
              "    </tr>\n",
              "  </tbody>\n",
              "</table>\n",
              "</div>"
            ],
            "text/plain": [
              "   gender race/ethnicity  ... reading score writing score\n",
              "0  female        group B  ...            72            74\n",
              "1  female        group C  ...            90            88\n",
              "2  female        group B  ...            95            93\n",
              "3    male        group A  ...            57            44\n",
              "4    male        group C  ...            78            75\n",
              "\n",
              "[5 rows x 8 columns]"
            ]
          },
          "metadata": {},
          "execution_count": 3
        }
      ]
    },
    {
      "cell_type": "code",
      "metadata": {
        "colab": {
          "base_uri": "https://localhost:8080/"
        },
        "id": "_Ky0KLP7z1Bj",
        "outputId": "10f5f81f-e27b-454d-d5dd-480e08291fe2"
      },
      "source": [
        "df.shape"
      ],
      "execution_count": null,
      "outputs": [
        {
          "output_type": "execute_result",
          "data": {
            "text/plain": [
              "(1000, 8)"
            ]
          },
          "metadata": {},
          "execution_count": 4
        }
      ]
    },
    {
      "cell_type": "code",
      "metadata": {
        "colab": {
          "base_uri": "https://localhost:8080/",
          "height": 297
        },
        "id": "1HBa92EYz26-",
        "outputId": "13a60798-2f26-4a4a-8951-eada833a253b"
      },
      "source": [
        "df.describe()"
      ],
      "execution_count": null,
      "outputs": [
        {
          "output_type": "execute_result",
          "data": {
            "text/html": [
              "<div>\n",
              "<style scoped>\n",
              "    .dataframe tbody tr th:only-of-type {\n",
              "        vertical-align: middle;\n",
              "    }\n",
              "\n",
              "    .dataframe tbody tr th {\n",
              "        vertical-align: top;\n",
              "    }\n",
              "\n",
              "    .dataframe thead th {\n",
              "        text-align: right;\n",
              "    }\n",
              "</style>\n",
              "<table border=\"1\" class=\"dataframe\">\n",
              "  <thead>\n",
              "    <tr style=\"text-align: right;\">\n",
              "      <th></th>\n",
              "      <th>math score</th>\n",
              "      <th>reading score</th>\n",
              "      <th>writing score</th>\n",
              "    </tr>\n",
              "  </thead>\n",
              "  <tbody>\n",
              "    <tr>\n",
              "      <th>count</th>\n",
              "      <td>1000.00000</td>\n",
              "      <td>1000.000000</td>\n",
              "      <td>1000.000000</td>\n",
              "    </tr>\n",
              "    <tr>\n",
              "      <th>mean</th>\n",
              "      <td>66.08900</td>\n",
              "      <td>69.169000</td>\n",
              "      <td>68.054000</td>\n",
              "    </tr>\n",
              "    <tr>\n",
              "      <th>std</th>\n",
              "      <td>15.16308</td>\n",
              "      <td>14.600192</td>\n",
              "      <td>15.195657</td>\n",
              "    </tr>\n",
              "    <tr>\n",
              "      <th>min</th>\n",
              "      <td>0.00000</td>\n",
              "      <td>17.000000</td>\n",
              "      <td>10.000000</td>\n",
              "    </tr>\n",
              "    <tr>\n",
              "      <th>25%</th>\n",
              "      <td>57.00000</td>\n",
              "      <td>59.000000</td>\n",
              "      <td>57.750000</td>\n",
              "    </tr>\n",
              "    <tr>\n",
              "      <th>50%</th>\n",
              "      <td>66.00000</td>\n",
              "      <td>70.000000</td>\n",
              "      <td>69.000000</td>\n",
              "    </tr>\n",
              "    <tr>\n",
              "      <th>75%</th>\n",
              "      <td>77.00000</td>\n",
              "      <td>79.000000</td>\n",
              "      <td>79.000000</td>\n",
              "    </tr>\n",
              "    <tr>\n",
              "      <th>max</th>\n",
              "      <td>100.00000</td>\n",
              "      <td>100.000000</td>\n",
              "      <td>100.000000</td>\n",
              "    </tr>\n",
              "  </tbody>\n",
              "</table>\n",
              "</div>"
            ],
            "text/plain": [
              "       math score  reading score  writing score\n",
              "count  1000.00000    1000.000000    1000.000000\n",
              "mean     66.08900      69.169000      68.054000\n",
              "std      15.16308      14.600192      15.195657\n",
              "min       0.00000      17.000000      10.000000\n",
              "25%      57.00000      59.000000      57.750000\n",
              "50%      66.00000      70.000000      69.000000\n",
              "75%      77.00000      79.000000      79.000000\n",
              "max     100.00000     100.000000     100.000000"
            ]
          },
          "metadata": {},
          "execution_count": 5
        }
      ]
    },
    {
      "cell_type": "code",
      "metadata": {
        "colab": {
          "base_uri": "https://localhost:8080/"
        },
        "id": "7-FmV2w6z4WP",
        "outputId": "0d216504-d023-40b4-b989-49df3348fe99"
      },
      "source": [
        "df.info()"
      ],
      "execution_count": null,
      "outputs": [
        {
          "output_type": "stream",
          "name": "stdout",
          "text": [
            "<class 'pandas.core.frame.DataFrame'>\n",
            "RangeIndex: 1000 entries, 0 to 999\n",
            "Data columns (total 8 columns):\n",
            " #   Column                       Non-Null Count  Dtype \n",
            "---  ------                       --------------  ----- \n",
            " 0   gender                       1000 non-null   object\n",
            " 1   race/ethnicity               1000 non-null   object\n",
            " 2   parental level of education  1000 non-null   object\n",
            " 3   lunch                        1000 non-null   object\n",
            " 4   test preparation course      1000 non-null   object\n",
            " 5   math score                   1000 non-null   int64 \n",
            " 6   reading score                1000 non-null   int64 \n",
            " 7   writing score                1000 non-null   int64 \n",
            "dtypes: int64(3), object(5)\n",
            "memory usage: 62.6+ KB\n"
          ]
        }
      ]
    },
    {
      "cell_type": "code",
      "metadata": {
        "colab": {
          "base_uri": "https://localhost:8080/"
        },
        "id": "yK5OJyVEk6vF",
        "outputId": "ee717cf0-cc4c-4608-cecd-8fcb3a9d786f"
      },
      "source": [
        "pd.set_option('display.max_rows', 140)\n",
        "df.gender.value_counts()"
      ],
      "execution_count": null,
      "outputs": [
        {
          "output_type": "execute_result",
          "data": {
            "text/plain": [
              "female    518\n",
              "male      482\n",
              "Name: gender, dtype: int64"
            ]
          },
          "metadata": {},
          "execution_count": 7
        }
      ]
    },
    {
      "cell_type": "code",
      "metadata": {
        "colab": {
          "base_uri": "https://localhost:8080/"
        },
        "id": "kfEDEeE62JhJ",
        "outputId": "75433073-4bcc-4f53-d385-368f7673a610"
      },
      "source": [
        "df['race/ethnicity'].value_counts()"
      ],
      "execution_count": null,
      "outputs": [
        {
          "output_type": "execute_result",
          "data": {
            "text/plain": [
              "group C    319\n",
              "group D    262\n",
              "group B    190\n",
              "group E    140\n",
              "group A     89\n",
              "Name: race/ethnicity, dtype: int64"
            ]
          },
          "metadata": {},
          "execution_count": 8
        }
      ]
    },
    {
      "cell_type": "code",
      "metadata": {
        "colab": {
          "base_uri": "https://localhost:8080/"
        },
        "id": "M3cqroht2K-O",
        "outputId": "d8ee2d4d-eedc-4a6f-cf57-b3e33005ab03"
      },
      "source": [
        "df['parental level of education'].value_counts()"
      ],
      "execution_count": null,
      "outputs": [
        {
          "output_type": "execute_result",
          "data": {
            "text/plain": [
              "some college          226\n",
              "associate's degree    222\n",
              "high school           196\n",
              "some high school      179\n",
              "bachelor's degree     118\n",
              "master's degree        59\n",
              "Name: parental level of education, dtype: int64"
            ]
          },
          "metadata": {},
          "execution_count": 9
        }
      ]
    },
    {
      "cell_type": "code",
      "metadata": {
        "colab": {
          "base_uri": "https://localhost:8080/"
        },
        "id": "NABrmq8R2LN0",
        "outputId": "29eb4772-2448-4fe8-c628-9b717f007909"
      },
      "source": [
        "df['test preparation course'].value_counts()"
      ],
      "execution_count": null,
      "outputs": [
        {
          "output_type": "execute_result",
          "data": {
            "text/plain": [
              "none         642\n",
              "completed    358\n",
              "Name: test preparation course, dtype: int64"
            ]
          },
          "metadata": {},
          "execution_count": 10
        }
      ]
    },
    {
      "cell_type": "markdown",
      "metadata": {
        "id": "jNGgvekMPAe8"
      },
      "source": [
        "# Data Preparation\n",
        "\n",
        "\n",
        "##### After Exploring the data, and finding that the scores is somehow similar, so I decided to sum the whole scores together then put them in one column, and take the average of them, to make the analysis more interpretable.  "
      ]
    },
    {
      "cell_type": "code",
      "metadata": {
        "id": "2XN1kKXk1qyt"
      },
      "source": [
        "df['Score_total'] = df['math score'] + df['reading score'] + df['writing score']"
      ],
      "execution_count": null,
      "outputs": []
    },
    {
      "cell_type": "code",
      "metadata": {
        "id": "0HmLlavi10Je"
      },
      "source": [
        "df['Score'] = df['Score_total'] / 3"
      ],
      "execution_count": null,
      "outputs": []
    },
    {
      "cell_type": "code",
      "metadata": {
        "id": "iyByIECl2M_D"
      },
      "source": [
        "df.Score = df.Score.astype(int)"
      ],
      "execution_count": null,
      "outputs": []
    },
    {
      "cell_type": "code",
      "metadata": {
        "id": "HHiPpv_B2ie0"
      },
      "source": [
        "df.drop(columns=['math score','reading score','writing score','Score_total'], inplace = True)"
      ],
      "execution_count": null,
      "outputs": []
    },
    {
      "cell_type": "code",
      "metadata": {
        "id": "Xv40Er773ClN"
      },
      "source": [
        "df.rename(columns={'Score':'score'},inplace = True)"
      ],
      "execution_count": null,
      "outputs": []
    },
    {
      "cell_type": "markdown",
      "metadata": {
        "id": "wt83ow-C-jO-"
      },
      "source": [
        "# Data Modeling\n",
        "\n",
        "##### Data splitting (training, and testing), convert categorical variables into dummy variable, Machine Learning Model Creation (Linear Regression), fitting the model to the training set, making predictions in the test set, then calculating the r2 score in the training and testing sets."
      ]
    },
    {
      "cell_type": "code",
      "metadata": {
        "id": "bbKnCWWP5F6v"
      },
      "source": [
        "y = df['score']\n",
        "X = df.drop(columns='score')"
      ],
      "execution_count": null,
      "outputs": []
    },
    {
      "cell_type": "code",
      "metadata": {
        "id": "lH18jn0F7Fun"
      },
      "source": [
        "X = pd.get_dummies(X)"
      ],
      "execution_count": null,
      "outputs": []
    },
    {
      "cell_type": "code",
      "metadata": {
        "colab": {
          "base_uri": "https://localhost:8080/"
        },
        "id": "n0NXkbw97-ic",
        "outputId": "dbc10e76-bbb9-40bd-af98-7b8d8ad9a582"
      },
      "source": [
        "X.shape"
      ],
      "execution_count": null,
      "outputs": [
        {
          "output_type": "execute_result",
          "data": {
            "text/plain": [
              "(1000, 17)"
            ]
          },
          "metadata": {},
          "execution_count": 18
        }
      ]
    },
    {
      "cell_type": "code",
      "metadata": {
        "colab": {
          "base_uri": "https://localhost:8080/"
        },
        "id": "I5UZ9gq-8FSO",
        "outputId": "c20b628e-895d-4974-f31d-52f99ca34114"
      },
      "source": [
        "y.shape"
      ],
      "execution_count": null,
      "outputs": [
        {
          "output_type": "execute_result",
          "data": {
            "text/plain": [
              "(1000,)"
            ]
          },
          "metadata": {},
          "execution_count": 19
        }
      ]
    },
    {
      "cell_type": "code",
      "metadata": {
        "id": "x1yOBSh45XWO"
      },
      "source": [
        "X_train, X_test, y_train, y_test = train_test_split(X,y,test_size = 0.3,random_state = 42)"
      ],
      "execution_count": null,
      "outputs": []
    },
    {
      "cell_type": "code",
      "metadata": {
        "colab": {
          "base_uri": "https://localhost:8080/"
        },
        "id": "54gH1G0g6aHc",
        "outputId": "c7e41f38-9fa0-4ef3-9cb9-648205a2ee14"
      },
      "source": [
        "reg = LinearRegression()\n",
        "reg.fit(X_train,y_train)\n",
        "\n",
        "pred = reg.predict(X_test)\n",
        "\n",
        "print('Training Set R2 Score : ' , reg.score(X_train,y_train))\n",
        "\n",
        "\n",
        "\n",
        "print('Testing Set R2 Score : ' , r2_score(y_test,pred))"
      ],
      "execution_count": null,
      "outputs": [
        {
          "output_type": "stream",
          "name": "stdout",
          "text": [
            "Training Set R2 Score :  0.23723591545563294\n",
            "Testing Set R2 Score :  0.21573092268050986\n"
          ]
        }
      ]
    },
    {
      "cell_type": "markdown",
      "metadata": {
        "id": "r1Pzl4r_ODYD"
      },
      "source": [
        "# Data Visualization\n",
        "\n",
        "##### Visualize the data that we want answer on them"
      ]
    },
    {
      "cell_type": "code",
      "metadata": {
        "id": "OHvJKR9BYosa"
      },
      "source": [
        "def createHeatMap(x,y,title):\n",
        "\n",
        "      \"\"\" \n",
        "    Create Heat Map from two variables\n",
        "  \n",
        "    Parameters: \n",
        "    x: Column (Series) that will be displayed in x-axis of the heatmap\n",
        "    y: Column (Series) that will be displayed in y-axis of the heatmap\n",
        "    title: The title that will be displayed alongside chart\n",
        "    \n",
        "    Returns: \n",
        "    Heat Map: With the specified parmaters in x-axis and y-axis\n",
        "  \n",
        "    \"\"\"\n",
        "      ct_counts = df.groupby([x, y]).size()\n",
        "      ct_counts = ct_counts.reset_index(name='count')\n",
        "      ct_counts = ct_counts.pivot(index = x, columns = y, values = 'count')\n",
        "      plt.title(title)\n",
        "      sb.heatmap(ct_counts, annot = True, fmt = 'd');\n"
      ],
      "execution_count": null,
      "outputs": []
    },
    {
      "cell_type": "code",
      "metadata": {
        "id": "WUcj742Ks8G1"
      },
      "source": [
        "def createBarChart(df,x,y,title):\n",
        "\n",
        "    \"\"\" \n",
        "    Create Bar Chart from two variables\n",
        "  \n",
        "    Parameters:\n",
        "    df: Targted dataFrame \n",
        "    x: Column (Series) that will be displayed in x-axis of the heatmap\n",
        "    y: Column (Series) that will be displayed in y-axis of the heatmap\n",
        "    title: The title that will be displayed alongside chart\n",
        "    \n",
        "    Returns: \n",
        "    Bar Chart: With the specified parmaters in dataframe, x-axis, y-axis, and the title\n",
        "  \n",
        "    \"\"\"\n",
        "    base_color = sb.color_palette()[0]\n",
        "    sb.barplot(data=df, x=x, y=y, color=base_color);\n",
        "    plt.xticks(rotation=15);\n",
        "    plt.title(title);\n"
      ],
      "execution_count": null,
      "outputs": []
    },
    {
      "cell_type": "markdown",
      "metadata": {
        "id": "tfPI2utRXxl4"
      },
      "source": [
        "Question 1: Does parent educational background urge their childern to complete test prepartion course\n"
      ]
    },
    {
      "cell_type": "code",
      "metadata": {
        "colab": {
          "base_uri": "https://localhost:8080/",
          "height": 295
        },
        "id": "3butH8Y2r_8m",
        "outputId": "b3e28c7e-081d-4798-d3f9-1501d452ac41"
      },
      "source": [
        "#Heat Map creation to compre parent educational background with test of preparation course\n",
        "createHeatMap('parental level of education','test preparation course','Parent Educational Background & Test of Preparation Course')"
      ],
      "execution_count": null,
      "outputs": [
        {
          "output_type": "display_data",
          "data": {
            "image/png": "[encoded data removed]",
            "text/plain": [
              "<Figure size 432x288 with 2 Axes>"
            ]
          },
          "metadata": {
            "needs_background": "light"
          }
        }
      ]
    },
    {
      "cell_type": "markdown",
      "metadata": {
        "id": "WCau27QAX2Ex"
      },
      "source": [
        "Question 2: Who has better score performance based on gender"
      ]
    },
    {
      "cell_type": "code",
      "metadata": {
        "colab": {
          "base_uri": "https://localhost:8080/",
          "height": 304
        },
        "id": "PK74WICwuZjC",
        "outputId": "2ae1b46c-ffda-4932-a95a-eb18cfcde794"
      },
      "source": [
        "#Bar Chart creation to show the The difference in score Between Male & Female\n",
        "createBarChart(df,'gender','score','The difference in score Between Male & Female') "
      ],
      "execution_count": null,
      "outputs": [
        {
          "output_type": "display_data",
          "data": {
            "image/png": "[encoded data removed]",
            "text/plain": [
              "<Figure size 432x288 with 1 Axes>"
            ]
          },
          "metadata": {
            "needs_background": "light"
          }
        }
      ]
    },
    {
      "cell_type": "markdown",
      "metadata": {
        "id": "OTCgTmccX7Z5"
      },
      "source": [
        "Question 3: Whether test preparation course increase the student score"
      ]
    },
    {
      "cell_type": "code",
      "metadata": {
        "colab": {
          "base_uri": "https://localhost:8080/",
          "height": 309
        },
        "id": "h9z3gSoZxIdz",
        "outputId": "e61b1d0c-b6f8-49d7-c432-a43ddfc8d608"
      },
      "source": [
        "#Bar Chart creation to show the The difference in score based on Test Preparation Course\n",
        "createBarChart(df,'test preparation course','score','The Score Based on Test Preparation Course')\n",
        "\t"
      ],
      "execution_count": null,
      "outputs": [
        {
          "output_type": "display_data",
          "data": {
            "image/png": "[encoded data removed]",
            "text/plain": [
              "<Figure size 432x288 with 1 Axes>"
            ]
          },
          "metadata": {
            "needs_background": "light"
          }
        }
      ]
    },
    {
      "cell_type": "markdown",
      "metadata": {
        "id": "QqJI0FEMX_3b"
      },
      "source": [
        "Question 4: Is race and ethnicity play important role in student's performance\n"
      ]
    },
    {
      "cell_type": "code",
      "metadata": {
        "colab": {
          "base_uri": "https://localhost:8080/",
          "height": 305
        },
        "id": "AEi79kq2vW_T",
        "outputId": "b0bb5801-f8ee-46f4-ec3d-fe689490ca01"
      },
      "source": [
        "#Bar Chart creation to show The difference in score based on Race/Ethnicity\n",
        "createBarChart(df,'race/ethnicity','score','The Score Based on Race/Ethnicity')"
      ],
      "execution_count": null,
      "outputs": [
        {
          "output_type": "display_data",
          "data": {
            "image/png": "[encoded data removed]",
            "text/plain": [
              "<Figure size 432x288 with 1 Axes>"
            ]
          },
          "metadata": {
            "needs_background": "light"
          }
        }
      ]
    },
    {
      "cell_type": "markdown",
      "metadata": {
        "id": "80jEuqFaYDED"
      },
      "source": [
        "Question 5: Is parent educational background effect student's performance"
      ]
    },
    {
      "cell_type": "code",
      "metadata": {
        "colab": {
          "base_uri": "https://localhost:8080/",
          "height": 319
        },
        "id": "tnW2U257v666",
        "outputId": "da6112d8-15b0-429a-9c59-65722b193800"
      },
      "source": [
        "#Bar Chart creation to show The difference in score based on Parent Educational Background\n",
        "createBarChart(df,'parental level of education','score','The Score Based on Parent Educational Background')"
      ],
      "execution_count": null,
      "outputs": [
        {
          "output_type": "display_data",
          "data": {
            "image/png": "[encoded data removed]",
            "text/plain": [
              "<Figure size 432x288 with 1 Axes>"
            ]
          },
          "metadata": {
            "needs_background": "light"
          }
        }
      ]
    },
    {
      "cell_type": "code",
      "metadata": {
        "colab": {
          "base_uri": "https://localhost:8080/",
          "height": 204
        },
        "id": "rzpHuc4l4leU",
        "outputId": "46cd076c-231e-4aae-98c4-78e772865877"
      },
      "source": [
        "df.head()"
      ],
      "execution_count": null,
      "outputs": [
        {
          "output_type": "execute_result",
          "data": {
            "text/html": [
              "<div>\n",
              "<style scoped>\n",
              "    .dataframe tbody tr th:only-of-type {\n",
              "        vertical-align: middle;\n",
              "    }\n",
              "\n",
              "    .dataframe tbody tr th {\n",
              "        vertical-align: top;\n",
              "    }\n",
              "\n",
              "    .dataframe thead th {\n",
              "        text-align: right;\n",
              "    }\n",
              "</style>\n",
              "<table border=\"1\" class=\"dataframe\">\n",
              "  <thead>\n",
              "    <tr style=\"text-align: right;\">\n",
              "      <th></th>\n",
              "      <th>gender</th>\n",
              "      <th>race/ethnicity</th>\n",
              "      <th>parental level of education</th>\n",
              "      <th>lunch</th>\n",
              "      <th>test preparation course</th>\n",
              "      <th>score</th>\n",
              "    </tr>\n",
              "  </thead>\n",
              "  <tbody>\n",
              "    <tr>\n",
              "      <th>0</th>\n",
              "      <td>female</td>\n",
              "      <td>group B</td>\n",
              "      <td>bachelor's degree</td>\n",
              "      <td>standard</td>\n",
              "      <td>none</td>\n",
              "      <td>72</td>\n",
              "    </tr>\n",
              "    <tr>\n",
              "      <th>1</th>\n",
              "      <td>female</td>\n",
              "      <td>group C</td>\n",
              "      <td>some college</td>\n",
              "      <td>standard</td>\n",
              "      <td>completed</td>\n",
              "      <td>82</td>\n",
              "    </tr>\n",
              "    <tr>\n",
              "      <th>2</th>\n",
              "      <td>female</td>\n",
              "      <td>group B</td>\n",
              "      <td>master's degree</td>\n",
              "      <td>standard</td>\n",
              "      <td>none</td>\n",
              "      <td>92</td>\n",
              "    </tr>\n",
              "    <tr>\n",
              "      <th>3</th>\n",
              "      <td>male</td>\n",
              "      <td>group A</td>\n",
              "      <td>associate's degree</td>\n",
              "      <td>free/reduced</td>\n",
              "      <td>none</td>\n",
              "      <td>49</td>\n",
              "    </tr>\n",
              "    <tr>\n",
              "      <th>4</th>\n",
              "      <td>male</td>\n",
              "      <td>group C</td>\n",
              "      <td>some college</td>\n",
              "      <td>standard</td>\n",
              "      <td>none</td>\n",
              "      <td>76</td>\n",
              "    </tr>\n",
              "  </tbody>\n",
              "</table>\n",
              "</div>"
            ],
            "text/plain": [
              "   gender race/ethnicity  ... test preparation course score\n",
              "0  female        group B  ...                    none    72\n",
              "1  female        group C  ...               completed    82\n",
              "2  female        group B  ...                    none    92\n",
              "3    male        group A  ...                    none    49\n",
              "4    male        group C  ...                    none    76\n",
              "\n",
              "[5 rows x 6 columns]"
            ]
          },
          "metadata": {},
          "execution_count": 138
        }
      ]
    },
    {
      "cell_type": "markdown",
      "metadata": {
        "id": "Ga-n-q-gOPo1"
      },
      "source": [
        "# Result Evaluation & Conclusion\n",
        "\n",
        "\n",
        "---\n",
        "\n",
        "\n",
        "*   **If we take the percentage of the student's parent that has higher educational background their children tend to complete the test preparation course**\n",
        "*   **As it shown in the bar chart female students has higher score than male students**\n",
        "\n",
        "*   **The student that has completed the test preparation course has gained higher score**\n",
        "\n",
        "*   **Race and Ethnicity effects is differ for each different group, and group (E) has the highest score with 5 marks difference from the second group, which is group (D)**\n",
        "\n",
        "*   **higher educational background of the parents reflect positively in students score**\n",
        "*   **I tested multiple regression models to predict the student score based on the other features, and the highest score was with Linear Regression due to simplicity of the algorithm itself, but the problem that the dataset contains little data, so the model is unable to predict well due to (Underfitting).**\n",
        "\n",
        "\n",
        "\n",
        "\n",
        "\n"
      ]
    }
  ]
}